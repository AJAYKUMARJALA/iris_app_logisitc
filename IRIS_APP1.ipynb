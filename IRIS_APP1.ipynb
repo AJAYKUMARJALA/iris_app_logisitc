{
  "nbformat": 4,
  "nbformat_minor": 0,
  "metadata": {
    "colab": {
      "provenance": []
    },
    "kernelspec": {
      "name": "python3",
      "display_name": "Python 3"
    },
    "language_info": {
      "name": "python"
    }
  },
  "cells": [
    {
      "cell_type": "code",
      "execution_count": null,
      "metadata": {
        "id": "xuJA7o6naNcs"
      },
      "outputs": [],
      "source": [
        "import streamlit as st\n",
        "import numpy as np\n",
        "import joblib\n",
        "\n",
        "#Interface\n",
        "st.markdown ('## Iris Species Prediction')\n",
        "sepal_length= st.number_input('sepal length (cm)')\n",
        "sepal_width = st.number_input('sepal width (cm)')\n",
        "petal_length= st.number_input('petal length (cm)')\n",
        "petal_width = st.number_input('petal width (cm)')\n",
        "\n",
        "#Predict button\n",
        "if st.button('Predict'):\n",
        "  model joblib.load('iris_model.pkl)\n",
        "  X= np.array([sepal_length, sepal_width, petal length, petal_width])\n",
        "  if any (X <= 0):\n",
        "    st.markdown ('### Inputs must be greater than 0')\n",
        "  else:\n",
        "    st.markdown (f'### Prediction is{model.predict([[sepal_length, sepal_width, petal_length, petal_width]])[0]}')"
      ]
    }
  ]
}